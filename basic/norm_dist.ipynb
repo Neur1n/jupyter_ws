{
 "cells": [
  {
   "cell_type": "markdown",
   "metadata": {},
   "source": [
    "# Normal Distribution\n",
    "\n",
    "## Basic Form\n",
    "- $X$: random variable\n",
    "- $\\mu$: mean or expectation\n",
    "- $\\sigma$: standard deviation\n",
    "- $\\sigma^2$: variance\n",
    "- $X \\sim \\mathcal{N}(\\mu, \\sigma^2)$: $X$ is distributed normally with $\\mu$ and $\\sigma^2$\n",
    "\n",
    "$$ f(x \\mid \\mu, \\sigma^2) = \\frac{1}{\\sqrt{2 \\pi \\sigma^2}}\\mathrm{exp}(-\\frac{(x - \\mu)^2}{2 \\sigma^2}) $$\n",
    "\n",
    "## Multivariable Form\n",
    "- $X$: random vector $(X_1, ..., X_k)^\\mathrm{T}$\n",
    "- $\\mu$: mean or expectation vector $\\mathrm{E}[X] = [\\mathrm{E}[X_1], E[X_2], ..., \\mathrm{E}[X_k]]^\\mathrm{T}$\n",
    "- $\\Sigma$: $k \\times k$ covariance matrix $\\mathrm{E}[(X_i - \\mu_i)(X_j - \\mu_j)] = [\\mathrm{Cov}[X_i, X_j]; 1 \\leq i, j \\leq k]$\n",
    "- $Q$: precision matrix $\\Sigma^{-1}$\n",
    "- $X \\sim \\mathcal{N_k}(\\mu, \\Sigma)$: $X$ is distributed normally with $\\mu$ and $\\Sigma$\n",
    "\n",
    "### Non-degenerate Case\n",
    "It is said to be \"non-degenerated\" when the **symmetric** $\\Sigma$ is **positive definite**, and in this case the distribution has [density](https://en.wikipedia.org/wiki/Probability_density_function) (or probability density function, PDF).\n",
    "\n",
    "$$ f_X(x_1, ..., x_k) = \\frac{1}{\\sqrt{(2\\pi)^k \\vert \\Sigma \\vert}} \\mathrm{exp}(-\\frac{(\\mathbf{x} - \\mathrm{\\mu})^\\mathrm{T} \\Sigma^{-1} (\\mathbf{x} - \\mathrm{\\mu})}{2} )$$\n",
    "\n",
    "Where $\\sqrt{(\\mathbf{x} - \\mathrm{\\mu})^\\mathrm{T} \\Sigma^{-1} (\\mathbf{x} - \\mathrm{\\mu})}$ is known as the [Mahalanobis distance](https://en.wikipedia.org/wiki/Mahalanobis_distance).\n",
    "\n",
    "For the other cases, please see the [Wikipedia page](https://en.wikipedia.org/wiki/Multivariate_normal_distribution)."
   ]
  },
  {
   "cell_type": "code",
   "execution_count": null,
   "metadata": {},
   "outputs": [],
   "source": []
  }
 ],
 "metadata": {
  "kernelspec": {
   "display_name": "Python 3",
   "language": "python",
   "name": "python3"
  },
  "language_info": {
   "codemirror_mode": {
    "name": "ipython",
    "version": 3
   },
   "file_extension": ".py",
   "mimetype": "text/x-python",
   "name": "python",
   "nbconvert_exporter": "python",
   "pygments_lexer": "ipython3",
   "version": "3.7.2"
  }
 },
 "nbformat": 4,
 "nbformat_minor": 2
}
