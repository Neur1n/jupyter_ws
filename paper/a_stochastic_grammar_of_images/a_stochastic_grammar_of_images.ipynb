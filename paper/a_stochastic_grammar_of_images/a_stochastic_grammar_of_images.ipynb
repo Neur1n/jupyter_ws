{
 "cells": [
  {
   "cell_type": "markdown",
   "metadata": {},
   "source": [
    "# A Stochastic Grammar of Images\n",
    "\n",
    "Original [link](http://www.stat.ucla.edu/~sczhu/papers/Grammar_quest.pdf).\n",
    "\n",
    "\n",
    "## Table of Contents\n",
    "- [Introduction](#introduection)\n",
    "\n",
    "\n",
    "## Introduction\n",
    "### Objectives\n",
    "Given an input image, the image parsing task constructs a most probable parse graph on-the-fly as the output interpretation and this parse graph is a subgraph of the And-Or graph (AOG) after making choices on the Or-nodes.\n",
    "\n",
    "Objectives:\n",
    "1. a common framework (that is AOG) for visual knowledge representation and object categorization\n",
    "2. scalable and recursive top-down/bottom-up computation\n",
    "3. small sample learning and generalization\n",
    "4. mapping the visual vocabulary to fill the [semantic gap](https://en.wikipedia.org/wiki/Semantic_gap) between symbols and pixels\n",
    "\n",
    "\n",
    "Computational procedure:\n",
    "1. bottom-up detecting and binding using a cascade of features\n",
    "2. top-down on-line template composition and matching.\n",
    "\n",
    "![fig2](./fig/fig2.png)\n",
    "Figure 2: Illustrating the recursive bottom-up / top-down computation processure in image parsing. The detection of rectangles (in red) instantiates some non-terminal nodes shown as upward arrows. They in turn activate graph grammar rules for grouping larger structures in nodes A, B, C respectively. These rules generate top-down prediction of rectangles (in blue). The redictions are validated from the image under the Bayesian posterior probability.\n",
    "\n",
    "### Overview of the Image Grammar\n",
    "![fig3](./fig/fig3.png)"
   ]
  },
  {
   "cell_type": "code",
   "execution_count": null,
   "metadata": {},
   "outputs": [],
   "source": []
  }
 ],
 "metadata": {
  "kernelspec": {
   "display_name": "Python 3",
   "language": "python",
   "name": "python3"
  },
  "language_info": {
   "codemirror_mode": {
    "name": "ipython",
    "version": 3
   },
   "file_extension": ".py",
   "mimetype": "text/x-python",
   "name": "python",
   "nbconvert_exporter": "python",
   "pygments_lexer": "ipython3",
   "version": "3.7.1"
  }
 },
 "nbformat": 4,
 "nbformat_minor": 2
}
