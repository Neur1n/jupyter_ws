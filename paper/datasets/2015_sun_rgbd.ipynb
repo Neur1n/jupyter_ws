{
 "cells": [
  {
   "cell_type": "markdown",
   "metadata": {},
   "source": [
    "# SUN RGB-D: A RGB-D Scene Understanding Benchmark Suite\n",
    "[[PDF](http://3dvision.princeton.edu/projects/2015/SUNrgbd/paper.pdf) | [WEB](http://3dvision.princeton.edu/projects/2015/SUNrgbd/)]"
   ]
  },
  {
   "cell_type": "markdown",
   "metadata": {},
   "source": [
    "## Abstract\n",
    "SUN RGB-D contains 10350 RGB-D images, 146617 2D polygons, 64595 3D bounding boxes with accurate object orientations, 3D room layout, scene category. All data are densely annotated.\n",
    "\n",
    "**_COMMENT_**: Aim at benefiting scene understanding: semantic segmentation, object classification, object detection, context reasoning, mid-level recognition, surface orientation, room layout estimation."
   ]
  },
  {
   "cell_type": "markdown",
   "metadata": {},
   "source": []
  }
 ],
 "metadata": {
  "kernelspec": {
   "display_name": "Python 3",
   "language": "python",
   "name": "python3"
  },
  "language_info": {
   "codemirror_mode": {
    "name": "ipython",
    "version": 3
   },
   "file_extension": ".py",
   "mimetype": "text/x-python",
   "name": "python",
   "nbconvert_exporter": "python",
   "pygments_lexer": "ipython3",
   "version": "3.5.2"
  }
 },
 "nbformat": 4,
 "nbformat_minor": 2
}
