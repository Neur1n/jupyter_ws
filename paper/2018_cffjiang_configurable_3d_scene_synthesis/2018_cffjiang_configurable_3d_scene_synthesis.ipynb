{
 "cells": [
  {
   "cell_type": "markdown",
   "metadata": {},
   "source": [
    "# Configurable 3D Scene Synthesis and 2D Image Rendering with Per-Pixel Ground Truth using Stochastic Grammars\n",
    "\n",
    "[[PDF](https://arxiv.org/pdf/1704.00112.pdf)]\n",
    "\n",
    "## Table of Contents\n",
    "- [Abstarct](#abstract)\n",
    "- [1 Introduction](#1-introduection)\n",
    "- [2 Representation and Formulation](#2-representation-and-formulation)"
   ]
  },
  {
   "cell_type": "markdown",
   "metadata": {},
   "source": [
    "## Abstract\n",
    "Propose a systematic learning-based approachto the generation synthetic 3D scenes and photorealistic 2D images, with associated ground truth information, for the purposes of training, benchmarking, and diagnosing learning-based computer vision and robotics algorithms."
   ]
  },
  {
   "cell_type": "markdown",
   "metadata": {},
   "source": [
    "## Introduction\n",
    "![fig1](./fig/fig1.png)\n",
    "Figure 1: (a) An example automatically-generated 3D bedroom scene, rendered as a photorealistic RGB image, along with its (b) per-pixel ground truth (from top) surface normal, depth, and object identity images. (c) Another synthesized bedroom scene. Synthesized scenes include fine details—objects (e.g., duvet and pillows on beds) and their textures are changeable, by sampling the physical parameters of materials (reflectance, roughness, glossiness, etc..), and illumination parameters are sampled from continuous spaces of possible positions, intensities, and colors. (d)–(g) Rendered images of four other example synthetic indoor scenes—(d) bedroom, (e) bathroom, (f) study, (g) gym.\n",
    "\n",
    "Learning-based pipeline:\n",
    "- The sampling algorithm combines hierarchical compositions and contextual constraints to enable the generation of 3D scenes, by utilizes a stochastic grammar model represented by attributed Spatial And-Or Graph (S-AOG)\n",
    "- SOTA PBR employed to yield photorealstic sythesis images, and enables an infinity variety of environmental conditions and attributes\n",
    "\n",
    "2D images are rendered from 3D scenes containing ground truth information.\n",
    "\n",
    "### 1.1 Related Work\n",
    "- Synthetic image datasets\n",
    "- 3D layout synthesis\n",
    "- Image synthesis\n",
    "- Stochastic scene grammar models\n",
    "- Domain adaptation\n",
    "\n",
    "### 1.2 Contributions\n",
    "1. The first work , for the purpose of indoor scene understanding, introduces a learning-based configurable pipeline for generating photorealstic images of indoor scenes with perfect per-pixel ground truth\n",
    "2. Propose S-AOG for scene generation\n",
    "3. The first paper to provide comprehensive diagnostics with respect to algorithm stability and sensitivity to certain scene attributes\n",
    "4. Demonstrate the effectiveness of our synthesized scene dataset by advancing the state-of-the-art in the pre- diction of surface normals and depth from RGB images"
   ]
  },
  {
   "cell_type": "markdown",
   "metadata": {},
   "source": [
    "## 2 Representation and Formulation\n",
    "### 2.1 Representation: Attributed Spatial And-Or Graph\n",
    "**Capabilities:**\n",
    "- Compositional hierachy: <br>\n",
    "  (i) an indoor scene can be categorized  into different indoor settings (i.e. bedroom etc) <br>\n",
    "  (ii) furniture can be decomposed into functional groups (e.g., a \"work\" group consists of a desk and a chair)\n",
    "\n",
    "- Contextual relations: <br>\n",
    "  (i) furniture pieces and walls <br>\n",
    "  (ii) among furniture pieces <br>\n",
    "  (iii) supported and supporting objects <br>\n",
    "  (iv) objects of a functional pair\n",
    "\n",
    "**Representation:**\n",
    "![fig2](./fig/fig2.png)\n",
    "Fig. 2: Scene grammar as an attributed S-AOG. The terminal nodes of the S-AOG are attributed with internal attributes (sizes)\n",
    "and external attributes (positions and orientations). A supported object node is combined by an address terminal node and\n",
    "a regular terminal node, indicating that the object is supported by the furniture pointed to by the address node. If the value\n",
    "of the address node is null, the object is situated on the floor. Contextual relations are defined between walls and furniture,\n",
    "among different furniture pieces, between supported objects and supporting furniture, and for functional groups.\n",
    "\n",
    "**Definitions:**\n",
    "- S-AOG: $\\mathscr{G} = \\langle S, V, R, P, E \\rangle$, where <br>\n",
    "  $S$: root node <br>\n",
    "  $V$: vertex set including non-terminal and terminal nodes, $V_{NT} \\cup V_T$ <br>\n",
    "  $R$: production rules <br>\n",
    "  $P$: probability model <br>\n",
    "  $E$: contextual relations represented as horizontal links between nodes in the same layer\n",
    "\n",
    "- Non-terminal Nodes: $V_{NT} = V^{And} \\cup V^{Or} \\cup V^{Set}$\n",
    "\n",
    "- Production Rules for non-terminal nodes: <br>\n",
    "  (i) And rules for $v \\in V^{And}$: $v \\rightarrow u_1 \\cdot u_2 \\cdot ... \\cdot u_{n(v)}$ <br>\n",
    "  (ii) Or rules for $v \\in V^{Or}$: $v \\rightarrow u_1 | u_2 | ... | u_{n(v)}$ with $\\rho_1 | \\rho_2 | ... | \\rho_{n(v)}$ <br>\n",
    "  (iii) Set rules for $v \\in V^{Set}$: $v \\rightarrow (nil | u^1_1 | u^2_1 | ...) ... (nil | u^1_{n(v)} | u^2_{n(v) | ...}) $ with $(\\rho_{1,0} | \\rho_{1,1} | \\rho{1,2} | ...) ... (\\rho_{n(v),0} | \\rho_{n(v),1} | \\rho_{n(v),2} | ...)$ <br>\n",
    "  where $u^k_i$ denotes the case that object $u_i$ apperas $k$ times with probability $\\rho_{i,k}$.\n",
    "\n",
    "- Terminal nodes: <br>\n",
    "  (i) regular $v \\in V^r_T$: with internal $A_{in}$ (size) and external $A_{ex}$ (position and orientation) <br>\n",
    "  (ii) address $v \\in V^a_T$: point to regular termianl nodes and take values in the set $V^r_T \\cup \\{\\text{nil}\\}$\n",
    "\n",
    "- Contextual Relations: $E = E_w \\cup E_f \\cup E_o \\cup E_g$ <br>\n",
    "  (i) $E_w$: relations between furniture pieces and walls <br>\n",
    "  (ii) $E_f$: relations among furniture pieces <br>\n",
    "  (iii) $E_o$: relations between supported and supporting objects <br>\n",
    "  (iv) $E_g$: relations objects of a functional pair <br>\n",
    "  Accordingly, the cliques formed in the terminal layer may be divided into four subsets: $C = C_w \\cup C_f \\cup C_o \\cup C_g$.\n",
    "\n",
    "- Parse Tree: A hierarchical parse tree $pt$ instantiates the S-AOG by selecting a child node for the Or-nodes as well as determining the state of each child node for the Set-nodes. A parse graph $pg$ consists of a parse tree pt and a number of contextual relations $E$ on the parse tree: $pg = (pt, E_{pt})$.\n",
    "\n",
    "![fig3](./fig/fig3.png)\n",
    "Fig. 3: (a) A simplified example of a parse graph of a bedroom. The terminal nodes of the parse graph form an MRF in the bottom layer. Cliques are formed by the contextual relations projected to the bottom layer. (b)–(e) give an example of the four types of cliques, which represent different contextual relations."
   ]
  }
 ],
 "metadata": {
  "kernelspec": {
   "display_name": "Python 3",
   "language": "python",
   "name": "python3"
  },
  "language_info": {
   "codemirror_mode": {
    "name": "ipython",
    "version": 3
   },
   "file_extension": ".py",
   "mimetype": "text/x-python",
   "name": "python",
   "nbconvert_exporter": "python",
   "pygments_lexer": "ipython3",
   "version": "3.7.3"
  }
 },
 "nbformat": 4,
 "nbformat_minor": 2
}
