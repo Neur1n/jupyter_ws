{
 "cells": [
  {
   "cell_type": "markdown",
   "metadata": {},
   "source": [
    "# Configurable 3D Scene Synthesis and 2D Image Rendering with Per-Pixel Ground Truth using Stochastic Grammars\n",
    "\n",
    "[[PDF](https://arxiv.org/pdf/1704.00112.pdf)]\n",
    "\n",
    "## Table of Contents\n",
    "- [Abstarct](#abstract)\n",
    "- [1 Introduction](#1-introduection)\n",
    "- [2 Representation and Formulation](#2-representation-and-formulation)"
   ]
  },
  {
   "cell_type": "markdown",
   "metadata": {},
   "source": [
    "## Abstract\n",
    "Propose a systematic learning-based approachto the generation synthetic 3D scenes and photorealistic 2D images, with associated ground truth information, for the purposes of training, benchmarking, and diagnosing learning-based computer vision and robotics algorithms."
   ]
  },
  {
   "cell_type": "markdown",
   "metadata": {},
   "source": [
    "## Introduction\n",
    "![fig1](./fig/fig1.png)\n",
    "Figure 1: (a) An example automatically-generated 3D bedroom scene, rendered as a photorealistic RGB image, along with its (b) per-pixel ground truth (from top) surface normal, depth, and object identity images. (c) Another synthesized bedroom scene. Synthesized scenes include fine details—objects (e.g., duvet and pillows on beds) and their textures are changeable, by sampling the physical parameters of materials (reflectance, roughness, glossiness, etc..), and illumination parameters are sampled from continuous spaces of possible positions, intensities, and colors. (d)–(g) Rendered images of four other example synthetic indoor scenes—(d) bedroom, (e) bathroom, (f) study, (g) gym.\n",
    "\n",
    "Learning-based pipeline:\n",
    "- The sampling algorithm combines hierarchical compositions and contextual constraints to enable the generation of 3D scenes, by utilizes a stochastic grammar model represented by attributed Spatial And-Or Graph (S-AOG)\n",
    "- SOTA PBR employed to yield photorealstic sythesis images, and enables an infinity variety of environmental conditions and attributes\n",
    "\n",
    "2D images are rendered from 3D scenes containing ground truth information.\n",
    "\n",
    "### 1.1 Related Work\n",
    "- Synthetic image datasets\n",
    "- 3D layout synthesis\n",
    "- Image synthesis\n",
    "- Stochastic scene grammar models\n",
    "- Domain adaptation\n",
    "\n",
    "### 1.2 Contributions\n",
    "1. The first work , for the purpose of indoor scene understanding, introduces a learning-based configurable pipeline for generating photorealstic images of indoor scenes with perfect per-pixel ground truth\n",
    "2. Propose S-AOG for scene generation\n",
    "3. The first paper to provide comprehensive diagnostics with respect to algorithm stability and sensitivity to certain scene attributes\n",
    "4. Demonstrate the effectiveness of our synthesized scene dataset by advancing the state-of-the-art in the pre- diction of surface normals and depth from RGB images"
   ]
  },
  {
   "cell_type": "markdown",
   "metadata": {},
   "source": [
    "## 2 Representation and Formulation\n",
    "### 2.1 Representation: Attributed Spatial And-Or Graph\n",
    "Capabilities:\n",
    "- Compositional hierachy: (i) an indoor scene can be categorized  into different indoor settings (i.e. bedroom etc); (ii) furniture can be decomposed into functional groups (e.g., a \"work\" group consists of a desk and a chair)\n",
    "- Contextual relations: (i) furniture pieces and walls; (ii) among furniture pieces; (iii) supported and supporting objects; (iv) objects of a functional pair "
   ]
  },
  {
   "cell_type": "markdown",
   "metadata": {},
   "source": []
  }
 ],
 "metadata": {
  "kernelspec": {
   "display_name": "Python 3",
   "language": "python",
   "name": "python3"
  },
  "language_info": {
   "codemirror_mode": {
    "name": "ipython",
    "version": 3
   },
   "file_extension": ".py",
   "mimetype": "text/x-python",
   "name": "python",
   "nbconvert_exporter": "python",
   "pygments_lexer": "ipython3",
   "version": "3.7.1"
  }
 },
 "nbformat": 4,
 "nbformat_minor": 2
}
